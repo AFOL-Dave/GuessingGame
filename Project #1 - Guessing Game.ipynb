{
 "cells": [
  {
   "cell_type": "markdown",
   "id": "0a1c0cda",
   "metadata": {},
   "source": [
    "# Description\n",
    "The first practical project in the Super Data Science Python 3 Masterclass is a very simple guessing game. The computer generates a random number, between 1 and 50, which the user tries to guess. The program guides the user toward the true number, by telling them whether their guess was too low, or too high."
   ]
  },
  {
   "cell_type": "code",
   "execution_count": null,
   "id": "40db0319",
   "metadata": {},
   "outputs": [],
   "source": [
    "import random\n",
    "true_number = random.randint(1, 50)"
   ]
  },
  {
   "cell_type": "code",
   "execution_count": null,
   "id": "3d14abd5",
   "metadata": {},
   "outputs": [],
   "source": [
    "user_number = int(input('Please enter your guess between 1 and 50: '))\n",
    "\n",
    "while True:\n",
    "    if true_number == user_number:\n",
    "        print('Well done! You guessed the number:', true_number)\n",
    "        break\n",
    "        \n",
    "    elif true_number > user_number:\n",
    "        print('Your guess was too low.')\n",
    "        user_number = int(input('Please enter your guess between 1 and 50: '))\n",
    "        \n",
    "    elif true_number < user_number:\n",
    "        print('Your guess was too high.')\n",
    "        user_number = int(input('Please enter your guess between 1 and 50: '))"
   ]
  }
 ],
 "metadata": {
  "kernelspec": {
   "display_name": "Python 3",
   "language": "python",
   "name": "python3"
  },
  "language_info": {
   "codemirror_mode": {
    "name": "ipython",
    "version": 3
   },
   "file_extension": ".py",
   "mimetype": "text/x-python",
   "name": "python",
   "nbconvert_exporter": "python",
   "pygments_lexer": "ipython3",
   "version": "3.8.8"
  }
 },
 "nbformat": 4,
 "nbformat_minor": 5
}
